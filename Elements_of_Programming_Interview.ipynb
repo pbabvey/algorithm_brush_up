{
  "nbformat": 4,
  "nbformat_minor": 0,
  "metadata": {
    "colab": {
      "name": "Elements of Programming Interview.ipynb",
      "provenance": [],
      "toc_visible": true,
      "authorship_tag": "ABX9TyNVw9fXH7hwW+rwU63HTpUR",
      "include_colab_link": true
    },
    "kernelspec": {
      "name": "python3",
      "display_name": "Python 3"
    }
  },
  "cells": [
    {
      "cell_type": "markdown",
      "metadata": {
        "id": "view-in-github",
        "colab_type": "text"
      },
      "source": [
        "<a href=\"https://colab.research.google.com/github/pbabvey/algorithm_brush_up/blob/main/Elements_of_Programming_Interview.ipynb\" target=\"_parent\"><img src=\"https://colab.research.google.com/assets/colab-badge.svg\" alt=\"Open In Colab\"/></a>"
      ]
    },
    {
      "cell_type": "code",
      "metadata": {
        "id": "TKUT-3ykwySX"
      },
      "source": [
        ""
      ],
      "execution_count": null,
      "outputs": []
    },
    {
      "cell_type": "markdown",
      "metadata": {
        "id": "tG7LRScVxLxj"
      },
      "source": [
        "## 18.1 SEARCH A MAZE"
      ]
    },
    {
      "cell_type": "code",
      "metadata": {
        "id": "EjaETehdylgM"
      },
      "source": [
        "import collections\n",
        "WHITE, BLACK = range(2)\n",
        "Coordinate = collections.namedtuple ('Coordinate' , ('x', 'y'))\n",
        "\n",
        "def search_maze (maze, s, e):\n",
        "    # Perforn DFS to find a feasible path. def search_maze-helper (cur) :\n",
        "    def search_maze_helper(cur):\n",
        "        # Checks cur is within naze and is a rvhite pixe7.\n",
        "        if not (0 <= cur.x < len(maze) and 0 <= cur.y < len(maze[cur.x]) and maze[cur.x][cur.y] == WHITE): \n",
        "            return False \n",
        "        path.append(cur)\n",
        "        maze[cur.x][cur.y] = BLACK \n",
        "        if cur == e:\n",
        "            return True\n",
        "\n",
        "        if any(\n",
        "            map(search_maze_helper, (Coordinate(cur.x - 1, cur.y), Coordinate(cur.x + 1, cur.y), Coordinate(cur.x, cur.y - 1), Coordinate(cur.x, cur.y + 1)))):\n",
        "            return True\n",
        "        # cannot find a path, renove the entry added in path.append(cur), del path[-1]\n",
        "        del path[-1]\n",
        "        return False\n",
        "\n",
        "    path = []\n",
        "    if not search_maze_helper(s) :\n",
        "        return [] # No path between s and e. return path\n",
        "    return path"
      ],
      "execution_count": null,
      "outputs": []
    },
    {
      "cell_type": "code",
      "metadata": {
        "colab": {
          "base_uri": "https://localhost:8080/"
        },
        "id": "6K_p4HJj7fAf",
        "outputId": "469be762-27b1-48c6-98d7-821e833f2da4"
      },
      "source": [
        "maze = [[0,1,0,0,0], [0,1,0,1,0], [0,1,0,1,0], [0,0,0,1,0]]\n",
        "s = Coordinate(0,0)\n",
        "e = Coordinate(3,4)\n",
        "search_maze(maze, s, e)"
      ],
      "execution_count": null,
      "outputs": [
        {
          "output_type": "execute_result",
          "data": {
            "text/plain": [
              "[Coordinate(x=0, y=0),\n",
              " Coordinate(x=1, y=0),\n",
              " Coordinate(x=2, y=0),\n",
              " Coordinate(x=3, y=0),\n",
              " Coordinate(x=3, y=1),\n",
              " Coordinate(x=3, y=2),\n",
              " Coordinate(x=2, y=2),\n",
              " Coordinate(x=1, y=2),\n",
              " Coordinate(x=0, y=2),\n",
              " Coordinate(x=0, y=3),\n",
              " Coordinate(x=0, y=4),\n",
              " Coordinate(x=1, y=4),\n",
              " Coordinate(x=2, y=4),\n",
              " Coordinate(x=3, y=4)]"
            ]
          },
          "metadata": {
            "tags": []
          },
          "execution_count": 20
        }
      ]
    },
    {
      "cell_type": "code",
      "metadata": {
        "id": "KCYndd674GL8"
      },
      "source": [
        "Coordinate = collections.namedtuple ('Coordinate' , ('x', 'y'))\n",
        "H = Coordinate(4,3)"
      ],
      "execution_count": null,
      "outputs": []
    },
    {
      "cell_type": "code",
      "metadata": {
        "colab": {
          "base_uri": "https://localhost:8080/"
        },
        "id": "Rb0UBGJe4MBh",
        "outputId": "65687d03-d8a4-47db-cbd4-81abc3fe3015"
      },
      "source": [
        "f = collections.namedtuple('f', ('x', 'y'))\n",
        "F = f(4,3)\n",
        "G = f(5,2)\n",
        "F.x"
      ],
      "execution_count": null,
      "outputs": [
        {
          "output_type": "execute_result",
          "data": {
            "text/plain": [
              "4"
            ]
          },
          "metadata": {
            "tags": []
          },
          "execution_count": 9
        }
      ]
    },
    {
      "cell_type": "markdown",
      "metadata": {
        "id": "I3clUbMuMFfx"
      },
      "source": [
        "## 18.2. Paint a Boolean Matrix\n",
        "BFS and DFS solutions are available"
      ]
    },
    {
      "cell_type": "code",
      "metadata": {
        "id": "vH-ycXERMIqa"
      },
      "source": [
        ""
      ],
      "execution_count": null,
      "outputs": []
    },
    {
      "cell_type": "markdown",
      "metadata": {
        "id": "Y2y8kjAWR6cU"
      },
      "source": [
        "## 18.3. Computing Enclosed Region"
      ]
    },
    {
      "cell_type": "code",
      "metadata": {
        "id": "CkB3RtxNS-rv"
      },
      "source": [
        "def fill_surrounded_regions(board):\n",
        "    n, m = len(board), len(board[0])\n",
        "    q = collections.deque([\n",
        "            (i, j) for k in range(n) for i, j in ((k, 0), (k, m-1))\n",
        "    ] + [(i,j) for k in range(m) for i, j in ((0, k), (n-1, k))])\n",
        "    while q:\n",
        "        x, y = q.popleft()\n",
        "        if 0 <= x < n and 0 <= y < m and board[x][y] == 'W':\n",
        "            board[x][y] = 'T'\n",
        "            q.extend([(x-1, y), (x+1, y), (x, y-1), (x, y+1)])\n",
        "    board[:] = [['B' if c != 'T' elese 'W' for c in row]] for row in board]\n",
        "                           \n",
        "                           \n"
      ],
      "execution_count": null,
      "outputs": []
    },
    {
      "cell_type": "markdown",
      "metadata": {
        "id": "jsacQyLPWyON"
      },
      "source": [
        "## 18.4. Deadlock Detection"
      ]
    },
    {
      "cell_type": "code",
      "metadata": {
        "id": "JZ8MZcqkW0r4"
      },
      "source": [
        "class GraphVertex:\n",
        "    white, grey, black = range(3)\n",
        "\n",
        "    def __init__(self):\n",
        "        self.color = GraphVertex.white\n",
        "        self.edges = []\n",
        "\n",
        "def is_deadlock(G):\n",
        "    def has_cycle(cur):\n",
        "        # Visiting a grey vertex means a cycle\n",
        "        if cur.color == GraphVertex.grey:\n",
        "            return True\n",
        "        \n",
        "        cur.color = GraphVertex.grey\n",
        "        # Traverse the neighbor vertices\n",
        "        if any(next.color != GraphVertex.black and has_cycle(next) \n",
        "                    for next in cur.edges):\n",
        "            return True\n",
        "        cur.color = GraphVertex.black\n",
        "        return False\n",
        "\n",
        "    return any(vertex.clor == GraphVertex.white and has_cycle(vertex)\n",
        "        for vertex in G)\n"
      ],
      "execution_count": null,
      "outputs": []
    },
    {
      "cell_type": "markdown",
      "metadata": {
        "id": "o3Ma1TqLDdEc"
      },
      "source": [
        "## 18.6. Making Wired Connections"
      ]
    },
    {
      "cell_type": "code",
      "metadata": {
        "id": "fUAhdR_3DmZU"
      },
      "source": [
        "class GraphVertex:\n",
        "    def __init__(self):\n",
        "        self.d = -1\n",
        "        self.edges = []\n",
        "\n",
        "def is_any_placement_feasible(G):\n",
        "    def bfs(s):\n",
        "        s.d = 0\n",
        "        q = collections.deque([s])\n",
        "\n",
        "        while q:\n",
        "            for t in q[0].edges:\n",
        "                if t.d == -1: # unvisited vertex\n",
        "                    t.d = q[0].d + 1\n",
        "                    q.append(t)\n",
        "                elif t.d == q[0].d:\n",
        "                    return False\n",
        "                \n",
        "            del q[0]\n",
        "        return True \n",
        "\n",
        "    return all(bfs(v) for v in G if v.d == -1)\n"
      ],
      "execution_count": null,
      "outputs": []
    }
  ]
}